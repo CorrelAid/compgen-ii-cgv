{
 "cells": [
  {
   "cell_type": "markdown",
   "id": "59fdd602-51de-4316-9d86-671684eb4721",
   "metadata": {},
   "source": [
    "# Showcase notebook Synthetic"
   ]
  },
  {
   "cell_type": "markdown",
   "id": "896cdb33-4ae3-4044-b25f-2465a9e049bf",
   "metadata": {},
   "source": [
    "This class creates synthetic training data in the style of a Verlustliste\n",
    "The data is returned as a pandas data frame."
   ]
  },
  {
   "cell_type": "code",
   "execution_count": 1,
   "id": "5bb156c8-c49e-43b8-af25-ea8756fa1c4e",
   "metadata": {
    "tags": []
   },
   "outputs": [],
   "source": [
    "from compgen2 import Gov, Synthetic, const\n",
    "import pandas as pd"
   ]
  },
  {
   "cell_type": "code",
   "execution_count": 2,
   "id": "be2e5ad5-af7d-4db2-af3f-e57f9e86c1eb",
   "metadata": {},
   "outputs": [],
   "source": [
    "data_root = \"../data\"\n",
    "gov = Gov(data_root)"
   ]
  },
  {
   "cell_type": "code",
   "execution_count": 3,
   "id": "7c933de2-5b28-4921-9ad0-df72b1ad9c2e",
   "metadata": {
    "tags": []
   },
   "outputs": [],
   "source": [
    "gov.load_data()"
   ]
  },
  {
   "cell_type": "code",
   "execution_count": 4,
   "id": "44a57acf-c63d-4086-b1a7-7cc3f85c773d",
   "metadata": {},
   "outputs": [],
   "source": [
    "gov.build_indices()"
   ]
  },
  {
   "cell_type": "code",
   "execution_count": 5,
   "id": "0f8719ba-a1fb-4d11-ad78-1ffe82c7c07a",
   "metadata": {},
   "outputs": [],
   "source": [
    "syn = Synthetic(gov)"
   ]
  },
  {
   "cell_type": "markdown",
   "id": "d60931e9-b855-4b32-9ec1-a89c9db433e8",
   "metadata": {},
   "source": [
    "## Default probabilities with distortion_factor = 1."
   ]
  },
  {
   "cell_type": "code",
   "execution_count": 6,
   "id": "ea443986-1c9e-445e-8166-fa834d84f38c",
   "metadata": {},
   "outputs": [
    {
     "data": {
      "text/html": [
       "<div>\n",
       "<style scoped>\n",
       "    .dataframe tbody tr th:only-of-type {\n",
       "        vertical-align: middle;\n",
       "    }\n",
       "\n",
       "    .dataframe tbody tr th {\n",
       "        vertical-align: top;\n",
       "    }\n",
       "\n",
       "    .dataframe thead th {\n",
       "        text-align: right;\n",
       "    }\n",
       "</style>\n",
       "<table border=\"1\" class=\"dataframe\">\n",
       "  <thead>\n",
       "    <tr style=\"text-align: right;\">\n",
       "      <th></th>\n",
       "      <th>location</th>\n",
       "      <th>truth</th>\n",
       "    </tr>\n",
       "  </thead>\n",
       "  <tbody>\n",
       "    <tr>\n",
       "      <th>0</th>\n",
       "      <td>hagenberg, lauensby</td>\n",
       "      <td>hagenberg, lauensby</td>\n",
       "    </tr>\n",
       "    <tr>\n",
       "      <th>1</th>\n",
       "      <td>hannover, hamersen</td>\n",
       "      <td>hannover, hamersen</td>\n",
       "    </tr>\n",
       "    <tr>\n",
       "      <th>2</th>\n",
       "      <td>hessen-nassau, wiesbaden</td>\n",
       "      <td>hessen-nassau, wiesbaden</td>\n",
       "    </tr>\n",
       "    <tr>\n",
       "      <th>3</th>\n",
       "      <td>flensburg-hand, preu.</td>\n",
       "      <td>flensburg-land, preußen</td>\n",
       "    </tr>\n",
       "    <tr>\n",
       "      <th>4</th>\n",
       "      <td>odžak, österreich-ungarn (monarchie)</td>\n",
       "      <td>odžak, österreich-ungarn (monarchie)</td>\n",
       "    </tr>\n",
       "    <tr>\n",
       "      <th>...</th>\n",
       "      <td>...</td>\n",
       "      <td>...</td>\n",
       "    </tr>\n",
       "    <tr>\n",
       "      <th>995</th>\n",
       "      <td>windeby, schleswig-holstein</td>\n",
       "      <td>windeby, schleswig-holstein</td>\n",
       "    </tr>\n",
       "    <tr>\n",
       "      <th>996</th>\n",
       "      <td>braunschweig, holzminden</td>\n",
       "      <td>braunschweig, holzminden</td>\n",
       "    </tr>\n",
       "    <tr>\n",
       "      <th>997</th>\n",
       "      <td>klein kloden, bresla</td>\n",
       "      <td>klein kloden, breslau</td>\n",
       "    </tr>\n",
       "    <tr>\n",
       "      <th>998</th>\n",
       "      <td>preußen, seggelund</td>\n",
       "      <td>seggelund, preußen</td>\n",
       "    </tr>\n",
       "    <tr>\n",
       "      <th>999</th>\n",
       "      <td>schwarzburg-rudolstadt, deutsc. reich</td>\n",
       "      <td>schwarzburg-rudolstadt, deutsches reich</td>\n",
       "    </tr>\n",
       "  </tbody>\n",
       "</table>\n",
       "<p>1000 rows × 2 columns</p>\n",
       "</div>"
      ],
      "text/plain": [
       "                                  location  \\\n",
       "0                      hagenberg, lauensby   \n",
       "1                       hannover, hamersen   \n",
       "2                 hessen-nassau, wiesbaden   \n",
       "3                    flensburg-hand, preu.   \n",
       "4     odžak, österreich-ungarn (monarchie)   \n",
       "..                                     ...   \n",
       "995            windeby, schleswig-holstein   \n",
       "996               braunschweig, holzminden   \n",
       "997                   klein kloden, bresla   \n",
       "998                     preußen, seggelund   \n",
       "999  schwarzburg-rudolstadt, deutsc. reich   \n",
       "\n",
       "                                       truth  \n",
       "0                        hagenberg, lauensby  \n",
       "1                         hannover, hamersen  \n",
       "2                   hessen-nassau, wiesbaden  \n",
       "3                    flensburg-land, preußen  \n",
       "4       odžak, österreich-ungarn (monarchie)  \n",
       "..                                       ...  \n",
       "995              windeby, schleswig-holstein  \n",
       "996                 braunschweig, holzminden  \n",
       "997                    klein kloden, breslau  \n",
       "998                       seggelund, preußen  \n",
       "999  schwarzburg-rudolstadt, deutsches reich  \n",
       "\n",
       "[1000 rows x 2 columns]"
      ]
     },
     "execution_count": 6,
     "metadata": {},
     "output_type": "execute_result"
    }
   ],
   "source": [
    "syn.create_synthetic_test_set(size=1000, num_parts=2, distortion_factor=1.)"
   ]
  },
  {
   "cell_type": "markdown",
   "id": "4d811de6-a459-42d5-97c5-0a19ac7c8fcd",
   "metadata": {},
   "source": [
    "## Control test set: No distortion at all (distortion=factor 0.)"
   ]
  },
  {
   "cell_type": "code",
   "execution_count": 7,
   "id": "c3fda993-8b5c-468b-b0c3-f020ba74e43c",
   "metadata": {},
   "outputs": [],
   "source": [
    "df = syn.create_synthetic_test_set(size=1000, num_parts=3, distortion_factor=0.)"
   ]
  },
  {
   "cell_type": "code",
   "execution_count": 8,
   "id": "2f51b7d9-69f5-4f8b-ada1-46adbc56a02a",
   "metadata": {},
   "outputs": [
    {
     "data": {
      "text/html": [
       "<div>\n",
       "<style scoped>\n",
       "    .dataframe tbody tr th:only-of-type {\n",
       "        vertical-align: middle;\n",
       "    }\n",
       "\n",
       "    .dataframe tbody tr th {\n",
       "        vertical-align: top;\n",
       "    }\n",
       "\n",
       "    .dataframe thead th {\n",
       "        text-align: right;\n",
       "    }\n",
       "</style>\n",
       "<table border=\"1\" class=\"dataframe\">\n",
       "  <thead>\n",
       "    <tr style=\"text-align: right;\">\n",
       "      <th></th>\n",
       "      <th>location</th>\n",
       "      <th>truth</th>\n",
       "    </tr>\n",
       "  </thead>\n",
       "  <tbody>\n",
       "    <tr>\n",
       "      <th>0</th>\n",
       "      <td>kropp, groß rheide, schleswig-holstein</td>\n",
       "      <td>kropp, groß rheide, schleswig-holstein</td>\n",
       "    </tr>\n",
       "    <tr>\n",
       "      <th>1</th>\n",
       "      <td>adamsruhe, preußen, wirbeln</td>\n",
       "      <td>adamsruhe, preußen, wirbeln</td>\n",
       "    </tr>\n",
       "    <tr>\n",
       "      <th>2</th>\n",
       "      <td>deutsches reich, aachen, doveren</td>\n",
       "      <td>deutsches reich, aachen, doveren</td>\n",
       "    </tr>\n",
       "    <tr>\n",
       "      <th>3</th>\n",
       "      <td>österreich-ungarn (monarchie), böhmen, österre...</td>\n",
       "      <td>österreich-ungarn (monarchie), böhmen, österre...</td>\n",
       "    </tr>\n",
       "    <tr>\n",
       "      <th>4</th>\n",
       "      <td>bromberg, preußen, ascherbruch</td>\n",
       "      <td>bromberg, preußen, ascherbruch</td>\n",
       "    </tr>\n",
       "    <tr>\n",
       "      <th>...</th>\n",
       "      <td>...</td>\n",
       "      <td>...</td>\n",
       "    </tr>\n",
       "    <tr>\n",
       "      <th>995</th>\n",
       "      <td>deutsches reich, zwickau, sachsen</td>\n",
       "      <td>deutsches reich, zwickau, sachsen</td>\n",
       "    </tr>\n",
       "    <tr>\n",
       "      <th>996</th>\n",
       "      <td>sorau, pförten, preußen</td>\n",
       "      <td>sorau, pförten, preußen</td>\n",
       "    </tr>\n",
       "    <tr>\n",
       "      <th>997</th>\n",
       "      <td>preußen, frankfurt (oder), brandenburg</td>\n",
       "      <td>preußen, frankfurt (oder), brandenburg</td>\n",
       "    </tr>\n",
       "    <tr>\n",
       "      <th>998</th>\n",
       "      <td>deutsches reich, sachsen, salzwedel</td>\n",
       "      <td>deutsches reich, sachsen, salzwedel</td>\n",
       "    </tr>\n",
       "    <tr>\n",
       "      <th>999</th>\n",
       "      <td>svojkov, böhmisch leipa, österreich-ungarn (mo...</td>\n",
       "      <td>svojkov, böhmisch leipa, österreich-ungarn (mo...</td>\n",
       "    </tr>\n",
       "  </tbody>\n",
       "</table>\n",
       "<p>1000 rows × 2 columns</p>\n",
       "</div>"
      ],
      "text/plain": [
       "                                              location  \\\n",
       "0               kropp, groß rheide, schleswig-holstein   \n",
       "1                          adamsruhe, preußen, wirbeln   \n",
       "2                     deutsches reich, aachen, doveren   \n",
       "3    österreich-ungarn (monarchie), böhmen, österre...   \n",
       "4                       bromberg, preußen, ascherbruch   \n",
       "..                                                 ...   \n",
       "995                  deutsches reich, zwickau, sachsen   \n",
       "996                            sorau, pförten, preußen   \n",
       "997             preußen, frankfurt (oder), brandenburg   \n",
       "998                deutsches reich, sachsen, salzwedel   \n",
       "999  svojkov, böhmisch leipa, österreich-ungarn (mo...   \n",
       "\n",
       "                                                 truth  \n",
       "0               kropp, groß rheide, schleswig-holstein  \n",
       "1                          adamsruhe, preußen, wirbeln  \n",
       "2                     deutsches reich, aachen, doveren  \n",
       "3    österreich-ungarn (monarchie), böhmen, österre...  \n",
       "4                       bromberg, preußen, ascherbruch  \n",
       "..                                                 ...  \n",
       "995                  deutsches reich, zwickau, sachsen  \n",
       "996                            sorau, pförten, preußen  \n",
       "997             preußen, frankfurt (oder), brandenburg  \n",
       "998                deutsches reich, sachsen, salzwedel  \n",
       "999  svojkov, böhmisch leipa, österreich-ungarn (mo...  \n",
       "\n",
       "[1000 rows x 2 columns]"
      ]
     },
     "execution_count": 8,
     "metadata": {},
     "output_type": "execute_result"
    }
   ],
   "source": [
    "df"
   ]
  },
  {
   "cell_type": "markdown",
   "id": "e6b5c4f3-2b78-4543-b7b7-16d712d6893d",
   "metadata": {},
   "source": [
    "Double-check: All rows are the same:"
   ]
  },
  {
   "cell_type": "code",
   "execution_count": 9,
   "id": "bb59619b-2788-4938-8ed1-982d79e9a9d2",
   "metadata": {},
   "outputs": [
    {
     "data": {
      "text/html": [
       "<div>\n",
       "<style scoped>\n",
       "    .dataframe tbody tr th:only-of-type {\n",
       "        vertical-align: middle;\n",
       "    }\n",
       "\n",
       "    .dataframe tbody tr th {\n",
       "        vertical-align: top;\n",
       "    }\n",
       "\n",
       "    .dataframe thead th {\n",
       "        text-align: right;\n",
       "    }\n",
       "</style>\n",
       "<table border=\"1\" class=\"dataframe\">\n",
       "  <thead>\n",
       "    <tr style=\"text-align: right;\">\n",
       "      <th></th>\n",
       "      <th>location</th>\n",
       "      <th>truth</th>\n",
       "    </tr>\n",
       "  </thead>\n",
       "  <tbody>\n",
       "  </tbody>\n",
       "</table>\n",
       "</div>"
      ],
      "text/plain": [
       "Empty DataFrame\n",
       "Columns: [location, truth]\n",
       "Index: []"
      ]
     },
     "execution_count": 9,
     "metadata": {},
     "output_type": "execute_result"
    }
   ],
   "source": [
    "df[~ pd.Series.eq(df[\"location\"], df[\"truth\"])]"
   ]
  },
  {
   "cell_type": "markdown",
   "id": "e0c3f7a4-599b-46d1-91a3-07e6e74edb68",
   "metadata": {},
   "source": [
    "## Currently implemented manipulation/distortion methods"
   ]
  },
  {
   "cell_type": "markdown",
   "id": "acae095a-78b7-4a48-8fe7-87dac33d197d",
   "metadata": {},
   "source": [
    "The synthetic class currently implements the following manipulation/distortion methods:\n",
    "* `shuffle_order(list, float)`: Shuffles the items of a list. The probability is taken from const_synthetic.py and multiplied by the distortion_factor.\n",
    "* `shorten(string)`: Drop the last n characters of a word where n is randomly chosen. Insert a period after the remaining characters.\n",
    "* `linotype(string)`: Replace a character with a random neighbouring character from the linotype keyboard.\n",
    "* `fractal(string)`: Replace a character with a random character that looks similar in the fractal font.\n",
    "* `drop(string)`: Returns the empty string. The class linguistic expects a callable type, so this method is used to actually remove a single character."
   ]
  },
  {
   "cell_type": "code",
   "execution_count": null,
   "id": "e2fa78c3-47a8-4a47-b89f-63f23e94e640",
   "metadata": {},
   "outputs": [],
   "source": []
  }
 ],
 "metadata": {
  "kernelspec": {
   "display_name": "Python 3 (ipykernel)",
   "language": "python",
   "name": "python3"
  },
  "language_info": {
   "codemirror_mode": {
    "name": "ipython",
    "version": 3
   },
   "file_extension": ".py",
   "mimetype": "text/x-python",
   "name": "python",
   "nbconvert_exporter": "python",
   "pygments_lexer": "ipython3",
   "version": "3.9.4"
  }
 },
 "nbformat": 4,
 "nbformat_minor": 5
}
