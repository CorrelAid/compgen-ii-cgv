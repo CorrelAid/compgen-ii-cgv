{
 "cells": [
  {
   "cell_type": "code",
   "execution_count": 1,
   "id": "55c73412-a57b-45ca-bf55-33638bdc5516",
   "metadata": {},
   "outputs": [],
   "source": [
    "from pprint import pprint\n",
    "from pathlib import Path\n",
    "import random\n",
    "\n",
    "from compgen2 import * \n",
    "from compgen2.const import FILENAME_VL\n",
    "\n",
    "import ipywidgets as widgets\n",
    "from IPython.display import display\n",
    "import pandas as pd"
   ]
  },
  {
   "cell_type": "code",
   "execution_count": 2,
   "id": "63587a91-ec25-4971-a4a1-a5a276d126bc",
   "metadata": {},
   "outputs": [],
   "source": [
    "vl = pd.DataFrame()\n",
    "gov = None\n",
    "data_root = \"\""
   ]
  },
  {
   "cell_type": "code",
   "execution_count": 5,
   "id": "700d1767-743b-4ac6-aade-364f957aad80",
   "metadata": {},
   "outputs": [
    {
     "data": {
      "application/vnd.jupyter.widget-view+json": {
       "model_id": "c2056fc10a294a59afe4e5b362876d83",
       "version_major": 2,
       "version_minor": 0
      },
      "text/plain": [
       "HBox(children=(Text(value='../data', description='String:', placeholder='Pfad zu data_root'), Button(descripti…"
      ]
     },
     "metadata": {},
     "output_type": "display_data"
    }
   ],
   "source": [
    "def load_data(btn):\n",
    "    global vl, gov, data_root\n",
    "    data_root = Path(data_root_widget.value)\n",
    "    \n",
    "    vl = pd.read_parquet(data_root / FILENAME_VL)\n",
    "    gov = Gov(data_root)\n",
    "    gov.load_data()\n",
    "    gov.build_indices()\n",
    "    \n",
    "data_root_widget = widgets.Text(\n",
    "    value='../data',\n",
    "    placeholder='Pfad zu data_root',\n",
    "    description='String:',\n",
    "    disabled=False\n",
    ")\n",
    "\n",
    "\n",
    "button = widgets.Button(\n",
    "    description='Daten laden',\n",
    "    disabled=False,\n",
    "    button_style='', # 'success', 'info', 'warning', 'danger' or ''\n",
    "    tooltip='',\n",
    "    icon='check' # (FontAwesome names without the `fa-` prefix)\n",
    ")\n",
    "button.on_click(load_data)\n",
    "\n",
    "\n",
    "widgets.HBox([data_root_widget, button])"
   ]
  },
  {
   "cell_type": "code",
   "execution_count": 19,
   "id": "88e718b1-944c-4d65-8600-908856ff8559",
   "metadata": {},
   "outputs": [
    {
     "data": {
      "application/vnd.jupyter.widget-view+json": {
       "model_id": "d5e47e03baf546bfa3abb4fcb58ca87d",
       "version_major": 2,
       "version_minor": 0
      },
      "text/plain": [
       "HBox(children=(Text(value='Poln.-Neudorf'), Checkbox(value=False, description='Preprocessing', indent=False), …"
      ]
     },
     "metadata": {},
     "output_type": "display_data"
    }
   ],
   "source": [
    "def get_matches(b):\n",
    "    location = pd.Series([location_widget.value])\n",
    "    \n",
    "    if prep.value:\n",
    "        location = Preprocessing.replace_corrections_vl(location)\n",
    "        location = Preprocessing.replace_characters_vl(location)\n",
    "        location = Preprocessing.substitute_partial_words(location, data_root)\n",
    "        location = Preprocessing.substitute_delete_words(location, data_root)\n",
    "        location = Preprocessing.substitute_full_words(location, data_root)\n",
    "        \n",
    "    m=Matcher(gov)\n",
    "    m.get_match_for_locations(location)\n",
    "    \n",
    "    pprint(m.results[location[0]])\n",
    "\n",
    "\n",
    "location_widget = widgets.Text(\n",
    "    value=vl.location.sample().values[0],\n",
    "    disabled=False\n",
    ")\n",
    "\n",
    "button = widgets.Button(\n",
    "    description='Matcher starten',\n",
    "    disabled=False,\n",
    "    button_style='', # 'success', 'info', 'warning', 'danger' or ''\n",
    "    tooltip='',\n",
    "    icon='check' # (FontAwesome names without the `fa-` prefix)\n",
    ")\n",
    "button.on_click(get_matches)\n",
    "\n",
    "prep = widgets.Checkbox(\n",
    "    value=False,\n",
    "    description='Preprocessing',\n",
    "    disabled=False,\n",
    "    indent=False\n",
    ")\n",
    "\n",
    "\n",
    "widgets.HBox([location_widget, prep, button])"
   ]
  },
  {
   "cell_type": "code",
   "execution_count": null,
   "id": "163bce05-73a2-4006-b663-dcebb627dbcc",
   "metadata": {},
   "outputs": [],
   "source": []
  }
 ],
 "metadata": {
  "kernelspec": {
   "display_name": "Python 3.9 (compgen2)",
   "language": "python",
   "name": "compgen2"
  },
  "language_info": {
   "codemirror_mode": {
    "name": "ipython",
    "version": 3
   },
   "file_extension": ".py",
   "mimetype": "text/x-python",
   "name": "python",
   "nbconvert_exporter": "python",
   "pygments_lexer": "ipython3",
   "version": "3.9.7"
  }
 },
 "nbformat": 4,
 "nbformat_minor": 5
}
