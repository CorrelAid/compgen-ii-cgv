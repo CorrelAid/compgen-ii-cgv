{
 "cells": [
  {
   "cell_type": "markdown",
   "id": "a7e0fcb3",
   "metadata": {
    "tags": []
   },
   "source": [
    "# Kölner Phonetik #43\n",
    "Issue link: https://github.com/CorrelAid/compgen-ii-cgv/issues/43"
   ]
  },
  {
   "cell_type": "code",
   "execution_count": 1,
   "id": "e50ae6ad",
   "metadata": {},
   "outputs": [],
   "source": [
    "import pandas as pd\n",
    "import numpy as np\n",
    "from compgen2 import Gov, Matcher, const, Phonetic\n",
    "from pathlib import Path\n",
    "import sys"
   ]
  },
  {
   "cell_type": "code",
   "execution_count": 2,
   "id": "b6e8ce56",
   "metadata": {},
   "outputs": [],
   "source": [
    "data_root = \"../data\"\n",
    "gov = Gov(data_root)"
   ]
  },
  {
   "cell_type": "code",
   "execution_count": 3,
   "id": "2f2377c0",
   "metadata": {
    "tags": []
   },
   "outputs": [],
   "source": [
    "gov.load_data()"
   ]
  },
  {
   "cell_type": "code",
   "execution_count": 4,
   "id": "483b1781",
   "metadata": {},
   "outputs": [],
   "source": [
    "gov.build_indices()"
   ]
  },
  {
   "cell_type": "markdown",
   "id": "f761b75a",
   "metadata": {},
   "source": [
    "## Kölner Phonetik"
   ]
  },
  {
   "cell_type": "code",
   "execution_count": 5,
   "id": "db8259bd",
   "metadata": {},
   "outputs": [],
   "source": [
    "ph = Phonetic()"
   ]
  },
  {
   "cell_type": "code",
   "execution_count": 6,
   "id": "71670d81",
   "metadata": {},
   "outputs": [],
   "source": [
    "from collections import defaultdict"
   ]
  },
  {
   "cell_type": "code",
   "execution_count": 7,
   "id": "60584083",
   "metadata": {},
   "outputs": [],
   "source": [
    "phonetic_by_name = {}\n",
    "names_by_phonetic = defaultdict(set)\n",
    "for n in gov.ids_by_name.keys():\n",
    "    code = ph.encode(n)\n",
    "    phonetic_by_name[n] = code\n",
    "    names_by_phonetic[code] |= {n}\n",
    "names_by_phonetic.default_factory = None"
   ]
  },
  {
   "cell_type": "code",
   "execution_count": 8,
   "id": "223b685c",
   "metadata": {},
   "outputs": [
    {
     "data": {
      "text/plain": [
       "(209019, 80901)"
      ]
     },
     "execution_count": 8,
     "metadata": {},
     "output_type": "execute_result"
    }
   ],
   "source": [
    "len(gov.ids_by_name.keys()), len(set(phonetic_by_name.values()))"
   ]
  },
  {
   "cell_type": "markdown",
   "id": "030db726",
   "metadata": {},
   "source": [
    "## Beispiele: Stärken"
   ]
  },
  {
   "cell_type": "markdown",
   "id": "4239c28c",
   "metadata": {},
   "source": [
    "Die Kölner Phonetik definiert 9 unterschiedliche Laute und vergibt ihnen Codes von 0 bis 8."
   ]
  },
  {
   "cell_type": "markdown",
   "id": "82244d02",
   "metadata": {},
   "source": [
    "Sämtliche **Vokale** werden auf \"0\" abgebildet. Außerdem werden alle \"0\" im finalen Code gelöscht, bis auf einen potentiellen Vokal am Anfang. Wegen dieser besonderen Behandlung von Vokalen ist die Kölner-Phonetik bei Fehlern in Vokalen besonders invariant."
   ]
  },
  {
   "cell_type": "code",
   "execution_count": 9,
   "id": "c0cf40ca",
   "metadata": {},
   "outputs": [
    {
     "name": "stdout",
     "output_type": "stream",
     "text": [
      "285273\n",
      "285273\n",
      "{'düsseldorf'}\n"
     ]
    }
   ],
   "source": [
    "print(ph.encode(\"Düsseldorf\"))\n",
    "print(ph.encode(\"Dassoldurf\"))\n",
    "print(names_by_phonetic[\"285273\"])"
   ]
  },
  {
   "cell_type": "markdown",
   "id": "8620b1f6",
   "metadata": {},
   "source": [
    "Die Kodierung der Kölner-Phonetik reduziert außerdem einen Laut, der mehrmals hintereinander vorkommt auf, auf einen."
   ]
  },
  {
   "cell_type": "code",
   "execution_count": 10,
   "id": "186acf5f",
   "metadata": {
    "tags": []
   },
   "outputs": [
    {
     "name": "stdout",
     "output_type": "stream",
     "text": [
      "285273\n"
     ]
    }
   ],
   "source": [
    "print(ph.encode(\"DDDDDüssssselllllddddorf\"))"
   ]
  },
  {
   "cell_type": "markdown",
   "id": "83250c28",
   "metadata": {},
   "source": [
    "Ähnlichklingende **Konsonanten** haben den selben Laut-Code"
   ]
  },
  {
   "cell_type": "code",
   "execution_count": 11,
   "id": "f8c0c1e1",
   "metadata": {},
   "outputs": [
    {
     "name": "stdout",
     "output_type": "stream",
     "text": [
      "285273\n"
     ]
    }
   ],
   "source": [
    "print(ph.encode(\"Düßeldorv\"))"
   ]
  },
  {
   "cell_type": "markdown",
   "id": "40e3ab77",
   "metadata": {},
   "source": [
    "## Beispiele: Schwächen"
   ]
  },
  {
   "cell_type": "markdown",
   "id": "f8a52622",
   "metadata": {},
   "source": [
    "Was die Kölner-Phonetik **nicht** kann, ist gravierende Fehler in den Laut-Codes zu ignorieren. Der Buchstabe \"L\" erzeugt einen anderen Laut-Code als \"D\". Somit hat \"Lüsseldorf\" in der Kölner-Phonetik einen anderen Code."
   ]
  },
  {
   "cell_type": "code",
   "execution_count": 12,
   "id": "e4751059",
   "metadata": {},
   "outputs": [
    {
     "name": "stdout",
     "output_type": "stream",
     "text": [
      "585273\n"
     ]
    }
   ],
   "source": [
    "print(ph.encode(\"Lüsseldorf\"))"
   ]
  },
  {
   "cell_type": "markdown",
   "id": "e7cd08bd",
   "metadata": {},
   "source": [
    "Insbesondere das **Hinzufügen von Konsonanten** kann die Kölner Phonetik nicht ignorieren."
   ]
  },
  {
   "cell_type": "code",
   "execution_count": 13,
   "id": "73825ba3",
   "metadata": {},
   "outputs": [
    {
     "name": "stdout",
     "output_type": "stream",
     "text": [
      "274846\n",
      "2747846\n"
     ]
    }
   ],
   "source": [
    "print(ph.encode(\"Trakischken\"))\n",
    "print(ph.encode(\"Trakirschken\"))"
   ]
  },
  {
   "cell_type": "markdown",
   "id": "241f324e",
   "metadata": {},
   "source": [
    "Ebenso das Hinzufügen von ganzen Wörtern verändert den Code."
   ]
  },
  {
   "cell_type": "code",
   "execution_count": 14,
   "id": "8843b480",
   "metadata": {},
   "outputs": [
    {
     "name": "stdout",
     "output_type": "stream",
     "text": [
      "472748464521\n"
     ]
    }
   ],
   "source": [
    "print(ph.encode(\"Gr. Trakischken, Goldap\"))"
   ]
  },
  {
   "cell_type": "markdown",
   "id": "7676335e-225e-4086-99c0-dabb8672257b",
   "metadata": {},
   "source": [
    "### Achtung: Unicode, Fremdsprachen, Buchstabe H, unbekannte Laute\n",
    "Alle folgenden vier Strings besitzen die selbse Codierung in der Kölner Phonetik, was überraschen mag. Das liegt an folgenden vier Gründen:\n",
    "* H vor einem Vokal wird immer ignoriert\n",
    "* Für Buchstaben-Kombinationen/Laute aus anderen Sprachen wie \"ci\" gibt es keine definierte Codierung in der Kölner Phonetik geben, da sie auf die deutsche Sprache optimiert ist. Diese Kombinmationen/Laute werden dann folglich ignoriert.\n",
    "* Unbekannte (Unicode-)Zeichen wie ż weren ignoriert. Man kann unbekannte Zeichen stets eine der 8 Konsonanten-Laut-Gruppen der Kölner Phonetik zuordnen. Problem: Die Kölner Phonetik ist auf Deutsch optimiert und für Laute fremder Sprache mag es keine passende Gruppe geben.\n"
   ]
  },
  {
   "cell_type": "code",
   "execution_count": 19,
   "id": "872efcf7-e629-41e7-a6ad-047bbc328fe8",
   "metadata": {},
   "outputs": [
    {
     "name": "stdout",
     "output_type": "stream",
     "text": [
      "046\n",
      "046\n",
      "046\n",
      "046\n"
     ]
    }
   ],
   "source": [
    "print(ph.encode(\"Aachen\"))\n",
    "print(ph.encode(\"höggen\")) ## Buchstabe H am Anfang\n",
    "print(ph.encode(\"okocim\")) ## Unbekannter Laut in der Kölner Phonetik: \"ci\"\n",
    "print(ph.encode(\"žigoni\")) ## Unbekannter Laut/Character in der Kölner Phonetik"
   ]
  }
 ],
 "metadata": {
  "jupytext": {
   "encoding": "# -*- coding: utf-8 -*-",
   "formats": "ipynb,py:percent",
   "text_representation": {
    "extension": ".py",
    "format_name": "percent",
    "format_version": "1.3",
    "jupytext_version": "1.11.4"
   }
  },
  "kernelspec": {
   "display_name": "Python 3 (ipykernel)",
   "language": "python",
   "name": "python3"
  },
  "language_info": {
   "codemirror_mode": {
    "name": "ipython",
    "version": 3
   },
   "file_extension": ".py",
   "mimetype": "text/x-python",
   "name": "python",
   "nbconvert_exporter": "python",
   "pygments_lexer": "ipython3",
   "version": "3.9.4"
  }
 },
 "nbformat": 4,
 "nbformat_minor": 5
}
