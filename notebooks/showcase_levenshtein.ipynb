{
 "cells": [
  {
   "cell_type": "code",
   "execution_count": 2,
   "id": "04bdd66c",
   "metadata": {},
   "outputs": [],
   "source": [
    "%load_ext autoreload\n",
    "%autoreload 2"
   ]
  },
  {
   "cell_type": "code",
   "execution_count": 10,
   "id": "eabe2b82",
   "metadata": {},
   "outputs": [],
   "source": [
    "import pickle\n",
    "\n",
    "from compgen2 import LocCorrection, Gov"
   ]
  },
  {
   "cell_type": "markdown",
   "id": "ca049e0d-a010-4170-b97f-48e5f9df21ae",
   "metadata": {},
   "source": [
    "LocCorrection requires an initialized Gov instance"
   ]
  },
  {
   "cell_type": "code",
   "execution_count": 4,
   "id": "2b78baaf-e49c-4c2f-a41e-b75154056f32",
   "metadata": {},
   "outputs": [],
   "source": [
    "data_root = \"../data\"\n",
    "gov = Gov(data_root)\n",
    "gov.load_data()\n",
    "gov.build_indices()"
   ]
  },
  {
   "cell_type": "markdown",
   "id": "d4cabf1f-aa2b-442e-a004-57f35c3f9d1e",
   "metadata": {},
   "source": [
    "Initialize a new instance of LocCorrection with a tuple of names"
   ]
  },
  {
   "cell_type": "code",
   "execution_count": 5,
   "id": "0e0dd9ac",
   "metadata": {},
   "outputs": [],
   "source": [
    "lC = LocCorrection.from_list(tuple(gov.get_loc_names()))"
   ]
  },
  {
   "cell_type": "markdown",
   "id": "83aca252-bb50-4581-beea-561e6339fc3a",
   "metadata": {},
   "source": [
    "## Using `LocCorrection` class to find candidates"
   ]
  },
  {
   "cell_type": "code",
   "execution_count": 6,
   "id": "64217296",
   "metadata": {},
   "outputs": [
    {
     "data": {
      "text/plain": [
       "[('alte bahn', 2), ('alt kahl', 2), ('alt valm', 2), ('altjahn', 2)]"
      ]
     },
     "execution_count": 6,
     "metadata": {},
     "output_type": "execute_result"
    }
   ],
   "source": [
    "candidates = lC.search(\"alt vahn\", 2)\n",
    "\n",
    "candidates"
   ]
  },
  {
   "cell_type": "code",
   "execution_count": 11,
   "id": "1e166d5a",
   "metadata": {},
   "outputs": [
    {
     "data": {
      "text/plain": [
       "[('walchen', 2),\n",
       " ('wacken', 2),\n",
       " ('höchen', 2),\n",
       " ('höhen', 2),\n",
       " ('hohen', 2),\n",
       " ('hacken', 2),\n",
       " ('hache', 2),\n",
       " ('hachen', 1),\n",
       " ('alchen', 1),\n",
       " ('aachen', 1),\n",
       " ('aschen', 1),\n",
       " ('aichen', 1),\n",
       " ('achern', 1),\n",
       " ('achen', 0)]"
      ]
     },
     "execution_count": 11,
     "metadata": {},
     "output_type": "execute_result"
    }
   ],
   "source": [
    "candidates = lC.search(\"achen\", 2)\n",
    "\n",
    "candidates"
   ]
  },
  {
   "cell_type": "code",
   "execution_count": 18,
   "id": "fb403db6-6d5a-4526-bb79-46adef11d29f",
   "metadata": {},
   "outputs": [
    {
     "data": {
      "text/plain": [
       "[('neustadt i.sa.', 3), ('neustadt i. sa.', 2), ('neustadt o.s.', 1)]"
      ]
     },
     "execution_count": 18,
     "metadata": {},
     "output_type": "execute_result"
    }
   ],
   "source": [
    "candidates = lC.search(\"neustadt o. s.\", 3)\n",
    "\n",
    "candidates"
   ]
  },
  {
   "cell_type": "code",
   "execution_count": 35,
   "id": "dcb2fbe5-f65b-4a12-9301-54b39209b18e",
   "metadata": {},
   "outputs": [
    {
     "data": {
      "text/plain": [
       "[('weifa', 5),\n",
       " ('weier', 5),\n",
       " ('weiert', 5),\n",
       " ('weirer', 5),\n",
       " ('weira', 5),\n",
       " ('weedern', 5),\n",
       " ('weener', 5),\n",
       " ('weepers', 5),\n",
       " ('westre', 5),\n",
       " ('wengry', 5),\n",
       " ('weger', 5),\n",
       " ('wegern', 5),\n",
       " ('wegerer', 5),\n",
       " ('wegfurt', 5),\n",
       " ('weber', 5),\n",
       " ('webers', 5),\n",
       " ('weberberg', 5),\n",
       " ('weberhof', 5),\n",
       " ('weberei', 5),\n",
       " ('webern', 5),\n",
       " ('weberau', 5),\n",
       " ('webertal', 5),\n",
       " ('webergrub', 5),\n",
       " ('weburg', 5),\n",
       " ('werd', 5),\n",
       " ('werde', 5),\n",
       " ('werder', 5),\n",
       " ('werdern', 5),\n",
       " ('werden', 5),\n",
       " ('werdum', 5),\n",
       " ('werda', 5),\n",
       " ('werdau', 5),\n",
       " ('werdorf', 5),\n",
       " ('werth', 5),\n",
       " ('werte', 5),\n",
       " ('werben', 5),\n",
       " ('werberg', 5),\n",
       " ('werbig', 5),\n",
       " ('werbiż', 5),\n",
       " ('werve', 5),\n",
       " ('werne', 5),\n",
       " ('werna', 5),\n",
       " ('wernarz', 5),\n",
       " ('wersch', 5),\n",
       " ('wersau', 5),\n",
       " ('werse', 5),\n",
       " ('wersen', 5),\n",
       " ('wersk', 5),\n",
       " ('werk', 5),\n",
       " ('wermert', 5),\n",
       " ('werl', 5),\n",
       " ('werle', 5),\n",
       " ('werlau', 5),\n",
       " ('werlte', 5),\n",
       " ('werwe', 5),\n",
       " ('werwer', 5),\n",
       " ('werry', 4),\n",
       " ('werfer', 4),\n",
       " ('werfen', 4),\n",
       " ('wierer', 4),\n",
       " ('wobern', 4),\n",
       " ('wobeser', 4),\n",
       " ('herfen', 4),\n",
       " ('herford', 4),\n",
       " ('herfart', 4),\n",
       " ('hoberge', 4),\n",
       " ('alberer', 4),\n",
       " ('aberg', 4),\n",
       " ('aberl', 4),\n",
       " ('aberle', 4),\n",
       " ('abersee', 4),\n",
       " ('aberham', 4),\n",
       " ('abern', 4),\n",
       " ('serra', 4),\n",
       " ('sierre', 4),\n",
       " ('sterr', 4),\n",
       " ('sterfl', 4),\n",
       " ('sperr', 4),\n",
       " ('sperre', 4),\n",
       " ('soberle', 4),\n",
       " ('goderer', 4),\n",
       " ('gobern', 4),\n",
       " ('gierer', 4),\n",
       " ('gerfin', 4),\n",
       " ('gerer', 4),\n",
       " ('erf', 4),\n",
       " ('erfde', 4),\n",
       " ('erfurt', 4),\n",
       " ('ebersau', 4),\n",
       " ('eberhard', 4),\n",
       " ('eberhart', 4),\n",
       " ('eberhof', 4),\n",
       " ('ebert', 4),\n",
       " ('ebern', 4),\n",
       " ('eberg', 4),\n",
       " ('ebergőc', 4),\n",
       " ('eberl', 4),\n",
       " ('eberloh', 4),\n",
       " ('ebering', 4),\n",
       " ('eberfing', 4),\n",
       " ('eberau', 4),\n",
       " ('ebenort', 4),\n",
       " ('egerer', 4),\n",
       " ('leerort', 4),\n",
       " ('lierer', 4),\n",
       " ('loderer', 4),\n",
       " ('loferer', 4),\n",
       " ('roderer', 4),\n",
       " ('robert', 4),\n",
       " ('robern', 4),\n",
       " ('kerfe', 4),\n",
       " ('klerf', 4),\n",
       " ('koberg', 4),\n",
       " ('koberegg', 4),\n",
       " ('koberovy', 4),\n",
       " ('kobern', 4),\n",
       " ('ober', 3),\n",
       " ('obermerz', 3),\n",
       " ('obermur', 3),\n",
       " ('oberfils', 3),\n",
       " ('oberfier', 3),\n",
       " ('oberfall', 3),\n",
       " ('oberfell', 3),\n",
       " ('oberfeld', 3),\n",
       " ('oberfloß', 3),\n",
       " ('oberfurth', 3),\n",
       " ('oberforst', 3),\n",
       " ('oberrod', 3),\n",
       " ('oberrad', 3),\n",
       " ('oberelz', 3),\n",
       " ('obererl', 2),\n",
       " ('obererb', 2),\n",
       " ('oberort', 2)]"
      ]
     },
     "execution_count": 35,
     "metadata": {},
     "output_type": "execute_result"
    }
   ],
   "source": [
    "candidates = lC.search(\"Oberfr.\", 5)\n",
    "\n",
    "candidates"
   ]
  },
  {
   "cell_type": "code",
   "execution_count": null,
   "id": "ad3e7c62-60ab-411f-941d-d6c80f6ba28f",
   "metadata": {},
   "outputs": [],
   "source": []
  }
 ],
 "metadata": {
  "jupytext": {
   "cell_metadata_filter": "-all",
   "notebook_metadata_filter": "-all",
   "text_representation": {
    "extension": ".py",
    "format_name": "percent"
   }
  },
  "kernelspec": {
   "display_name": "Python 3.9 (compgen2)",
   "language": "python",
   "name": "compgen2"
  },
  "language_info": {
   "codemirror_mode": {
    "name": "ipython",
    "version": 3
   },
   "file_extension": ".py",
   "mimetype": "text/x-python",
   "name": "python",
   "nbconvert_exporter": "python",
   "pygments_lexer": "ipython3",
   "version": "3.9.7"
  }
 },
 "nbformat": 4,
 "nbformat_minor": 5
}
