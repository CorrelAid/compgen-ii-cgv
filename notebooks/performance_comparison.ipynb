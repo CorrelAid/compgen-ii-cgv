{
 "cells": [
  {
   "cell_type": "code",
   "execution_count": 1,
   "id": "c895f294-28b9-47db-926f-95e76c6b383c",
   "metadata": {},
   "outputs": [],
   "source": [
    "# only run if you are developping/debugging\n",
    "# !pip install line_profiler\n",
    "%load_ext line_profiler\n",
    "%load_ext autoreload\n",
    "%autoreload 2"
   ]
  },
  {
   "cell_type": "code",
   "execution_count": 2,
   "id": "667e8c1a-2782-44ca-8265-491d69a25930",
   "metadata": {},
   "outputs": [],
   "source": [
    "from pathlib import Path\n",
    "\n",
    "import pandas as pd\n",
    "import random\n",
    "\n",
    "from collections import Counter\n",
    "\n",
    "from compgen2 import Gov, Matcher, GovTestData, Preprocessing\n",
    "from compgen2.const import FILENAME_VL, FILENAME_GOV_TEST_SET\n",
    "from compgen2.testdata import sample_test_set_from_gov, Synthetic, get_accuracy\n",
    "\n",
    "random.seed(1337)"
   ]
  },
  {
   "cell_type": "code",
   "execution_count": 3,
   "id": "2d18a5d0-4e0e-42cc-8ad9-f41025bce6b6",
   "metadata": {},
   "outputs": [],
   "source": [
    "data_root= Path(\"../data\")"
   ]
  },
  {
   "cell_type": "code",
   "execution_count": 4,
   "id": "35f45297-0a3b-4028-98f5-4b58b57dda6f",
   "metadata": {},
   "outputs": [],
   "source": [
    "# settings for matcher\n",
    "matcher_params = {\n",
    "    \"use_difflib\": True,  # False will use levenshtein\n",
    "    \"use_phonetic\": True,\n",
    "    \"max_cost\": 3,\n",
    "    \"search_kreis_first\": True,\n",
    "}"
   ]
  },
  {
   "cell_type": "markdown",
   "id": "6ffe95d6-1241-4aef-a2cd-207f3022f01a",
   "metadata": {},
   "source": [
    "## Test sets\n",
    "We use 4 test sets:\n",
    "- different sample sets from the file \"deutsche-verlustlisten-1wk\"\n",
    "- different sample sets from the gov database \n",
    "- different sample sets from a synthetic data set that tries to mimic the errors found in the original \"verlustliste\"\n",
    "- manually collected correction suggestions from http://wiki-de.genealogy.net/Verlustlisten_Erster_Weltkrieg/Projekt/Ortsnamen\n",
    "\n",
    "All test sets change when preprocessing is applied.\n",
    "\n",
    "**Note**: We have a ground truth for all test setsbut the first one as the \"verlustliste\" is the actual problem we want to solve. So for the test set \"verlustliste\" we cannot calculate an accuracy score but we can compare who many items we were able to match. Assumption is that more matches are, in general, better."
   ]
  },
  {
   "cell_type": "markdown",
   "id": "f23618ed-61d7-47c1-a059-8d9815ef1838",
   "metadata": {},
   "source": [
    "## Test suite without Preprocessing -> Baseline"
   ]
  },
  {
   "cell_type": "code",
   "execution_count": 5,
   "id": "c1927d88-6f44-4f0b-96d2-259f338b2461",
   "metadata": {},
   "outputs": [],
   "source": [
    "final_results = []"
   ]
  },
  {
   "cell_type": "code",
   "execution_count": 6,
   "id": "d91e1442-3538-428a-aa58-41a941a54aff",
   "metadata": {},
   "outputs": [],
   "source": [
    "gov = Gov(data_root)\n",
    "gov.load_data()\n",
    "gov.build_indices()"
   ]
  },
  {
   "cell_type": "code",
   "execution_count": 7,
   "id": "5a9bf91d-91cc-41bc-8a4c-d87807829c0f",
   "metadata": {},
   "outputs": [],
   "source": [
    "# Test Set 1: VL\n",
    "assert data_root.joinpath(FILENAME_VL).exists()\n",
    "test_set_size = 100\n",
    "\n",
    "vl = pd.read_parquet(data_root / FILENAME_VL)  # location column has the test data, truth is unknown\n",
    "\n",
    "vl_test_sets = []\n",
    "vl_test_sets.append((\"vl test set with loc_count=1\", vl.query(\"loc_parts_count == 1\").sample(test_set_size)))\n",
    "vl_test_sets.append((\"vl test set with loc_count=2\", vl.query(\"loc_parts_count == 2\").sample(test_set_size)))\n",
    "vl_test_sets.append((\"vl test set with loc_count=3\", vl.query(\"loc_parts_count == 3\").sample(test_set_size)))\n",
    "vl_test_sets.append((\"vl test set containing '.'\", vl[vl.location.str.contains(\".\", regex=False)].sample(test_set_size)))"
   ]
  },
  {
   "cell_type": "markdown",
   "id": "b8d66c0c-701c-432c-9cb8-c59af8a39837",
   "metadata": {},
   "source": [
    "# Test Set 2: Gov database\n",
    "test_set_size = 100\n",
    "\n",
    "gov_test_sets = []\n",
    "gov_test_sets.append((\"gov db test set with loc_count=1 and valid=1\", sample_test_set_from_gov(gov, size=test_set_size, num_parts=1, valid=1)))\n",
    "gov_test_sets.append((\"gov db test set with loc_count=1 and valid=0.7\", sample_test_set_from_gov(gov, size=test_set_size, num_parts=1, valid=0.7)))\n",
    "gov_test_sets.append((\"gov db test set with loc_count=2 and valid=1\", sample_test_set_from_gov(gov, size=test_set_size, num_parts=2, valid=1)))\n",
    "gov_test_sets.append((\"gov db test set with loc_count=2 and valid=0.7\", sample_test_set_from_gov(gov, size=test_set_size, num_parts=2, valid=0.7)))\n",
    "gov_test_sets.append((\"gov db test set with loc_count=3 and valid=1\", sample_test_set_from_gov(gov, size=test_set_size, num_parts=3, valid=1)))\n",
    "gov_test_sets.append((\"gov db test set with loc_count=3 and valid=0.7\", sample_test_set_from_gov(gov, size=test_set_size, num_parts=3, valid=0.7)))"
   ]
  },
  {
   "cell_type": "code",
   "execution_count": 8,
   "id": "3b87ed92-0a28-4e20-b80c-0484fd854254",
   "metadata": {},
   "outputs": [],
   "source": [
    "# Test Set 3: Synthetic\n",
    "test_set_size = 100\n",
    "\n",
    "syn = Synthetic(gov)\n",
    "\n",
    "syn_test_sets = []\n",
    "syn_test_sets.append((\"syn test set with loc_count=1 and distortion=0.\", syn.create_synthetic_test_set(size=test_set_size, num_parts=1, distortion_factor=0.)))\n",
    "syn_test_sets.append((\"syn test set with loc_count=1 and distortion=1.\", syn.create_synthetic_test_set(size=test_set_size, num_parts=1, distortion_factor=1.)))\n",
    "syn_test_sets.append((\"syn test set with loc_count=2 and distortion=0.\", syn.create_synthetic_test_set(size=test_set_size, num_parts=2, distortion_factor=0.)))\n",
    "syn_test_sets.append((\"syn test set with loc_count=2 and distortion=1.\", syn.create_synthetic_test_set(size=test_set_size, num_parts=2, distortion_factor=1.)))\n",
    "syn_test_sets.append((\"syn test set with loc_count=3 and distortion=0.\", syn.create_synthetic_test_set(size=test_set_size, num_parts=3, distortion_factor=0.)))\n",
    "syn_test_sets.append((\"syn test set with loc_count=3 and distortion=1.\", syn.create_synthetic_test_set(size=test_set_size, num_parts=3, distortion_factor=1.)))"
   ]
  },
  {
   "cell_type": "code",
   "execution_count": 9,
   "id": "2d1766be-47c2-48e6-81ff-fe6c726c8458",
   "metadata": {},
   "outputs": [],
   "source": [
    "# Test Set 4: GovTestData\n",
    "assert data_root.joinpath(FILENAME_GOV_TEST_SET).exists()\n",
    "\n",
    "gtd = GovTestData(gov)\n",
    "gtd_test_sets = []\n",
    "gtd_test_sets.append((\"gov web test set\", gtd.get_test_set()))"
   ]
  },
  {
   "cell_type": "markdown",
   "id": "8f4733cd-b894-40b6-a880-31507c0eab87",
   "metadata": {
    "tags": []
   },
   "source": [
    "### Run the tests"
   ]
  },
  {
   "cell_type": "code",
   "execution_count": 10,
   "id": "783a57ca-e8bc-4905-b3ae-eadd8efda818",
   "metadata": {},
   "outputs": [],
   "source": [
    "result_row = []"
   ]
  },
  {
   "cell_type": "markdown",
   "id": "f9bef5ce-46f8-40d8-a9be-a6f5494d2c1e",
   "metadata": {},
   "source": [
    "Test Set 1"
   ]
  },
  {
   "cell_type": "code",
   "execution_count": 11,
   "id": "73858549-b75a-4baf-892f-6e351703c817",
   "metadata": {
    "tags": []
   },
   "outputs": [
    {
     "name": "stdout",
     "output_type": "stream",
     "text": [
      "Rsnunning vl test set with loc_count=1\n"
     ]
    },
    {
     "name": "stderr",
     "output_type": "stream",
     "text": [
      "Processing locations: 100%|███████████████████████████████████████████████████████████| 100/100 [00:26<00:00,  3.81it/s]\n"
     ]
    },
    {
     "name": "stdout",
     "output_type": "stream",
     "text": [
      "Counter({'Phonetic': 38, 'gov complete': 28, 'ALL GOV | Cost 3': 19, 'ALL GOV | Cost 2': 8, 'No anchor at all': 5, 'ALL GOV | Cost 1': 2})\n",
      "Total matches: 95 (95.0%).\n",
      "\n",
      "Rsnunning vl test set with loc_count=2\n"
     ]
    },
    {
     "name": "stderr",
     "output_type": "stream",
     "text": [
      "Processing locations: 100%|██████████████████████████████████████████████████████████| 100/100 [00:00<00:00, 201.56it/s]\n"
     ]
    },
    {
     "name": "stdout",
     "output_type": "stream",
     "text": [
      "Counter({'gov partial': 64, 'gov complete': 24, 'KREISORSTADT | Cost 2': 6, 'KREISORSTADT | Cost 3': 5, 'KREISORSTADT | Cost 1': 1})\n",
      "Total matches: 86 (86.0%).\n",
      "\n",
      "Rsnunning vl test set with loc_count=3\n"
     ]
    },
    {
     "name": "stderr",
     "output_type": "stream",
     "text": [
      "Processing locations: 100%|██████████████████████████████████████████████████████████| 100/100 [00:00<00:00, 104.70it/s]\n"
     ]
    },
    {
     "name": "stdout",
     "output_type": "stream",
     "text": [
      "Counter({'gov partial': 73, 'gov complete': 21, 'KREISORSTADT | Cost 2': 3, 'KREISORSTADT | Cost 1': 2, 'KREISORSTADT | Cost 3': 1})\n",
      "Total matches: 65 (65.0%).\n",
      "\n",
      "Rsnunning vl test set containing '.'\n"
     ]
    },
    {
     "name": "stderr",
     "output_type": "stream",
     "text": [
      "Processing locations: 100%|███████████████████████████████████████████████████████████| 100/100 [00:08<00:00, 11.40it/s]"
     ]
    },
    {
     "name": "stdout",
     "output_type": "stream",
     "text": [
      "Counter({'gov partial': 62, 'KREISORSTADT | Cost 3': 13, 'KREISORSTADT | Cost 2': 9, 'ALL GOV | Cost 3': 5, 'Phonetic': 4, 'KREISORSTADT | Cost 1': 2, 'ALL GOV | Cost 2': 2, 'gov complete': 1, 'ALL GOV | Cost 1': 1, 'No anchor at all': 1})\n",
      "Total matches: 95 (95.0%).\n",
      "\n"
     ]
    },
    {
     "name": "stderr",
     "output_type": "stream",
     "text": [
      "\n"
     ]
    }
   ],
   "source": [
    "for name, test_set in vl_test_sets:\n",
    "    m = Matcher(gov, **matcher_params)\n",
    "    print(\"Rsnunning\", name)\n",
    "    m.get_match_for_locations(test_set.location)\n",
    "    print(Counter(v[\"anchor_method\"] for v in m.results.values()))\n",
    "    \n",
    "    total_matches = len([match for match in m.results.values() if match.get(\"possible_matches\")])\n",
    "    print(f\"Total matches: {total_matches} ({round(total_matches / test_set.location.nunique() * 100, 4)}%).\")\n",
    "    print()\n",
    "    \n",
    "    result_row.append(total_matches / test_set.location.nunique())"
   ]
  },
  {
   "cell_type": "markdown",
   "id": "ae111ca3-fd8b-4c4d-ab5b-dccfffd146ca",
   "metadata": {},
   "source": [
    "Test Set 2"
   ]
  },
  {
   "cell_type": "markdown",
   "id": "771ae112-8ef1-4408-8897-26546a47654f",
   "metadata": {},
   "source": [
    "for name, test_set in gov_test_sets:\n",
    "    m = Matcher(gov, **matcher_params)\n",
    "    print(\"Running\", name)\n",
    "    m.get_match_for_locations(test_set.location)\n",
    "    total_matches = len([match for match in m.results.values() if match.get(\"possible_matches\")])\n",
    "    print(f\"Total matches: {total_matches} ({round(total_matches / test_set.location.nunique() * 100, 4)}%).\")\n",
    "    \n",
    "    accuracy = get_accuracy(m.results, test_set)\n",
    "    print(\"Accuracy (entries where all parts of truth are in possible matches):\", round(accuracy, 4))\n",
    "    print()\n",
    "    \n",
    "    result_row.append(total_matches / test_set.location.nunique())\n",
    "    result_row.append(accuracy)"
   ]
  },
  {
   "cell_type": "markdown",
   "id": "d8a21252-6812-41c1-8c5c-84c48febc7a4",
   "metadata": {},
   "source": [
    "Test Set 3"
   ]
  },
  {
   "cell_type": "code",
   "execution_count": 12,
   "id": "532070af-a6f7-48b4-bf06-3a8181b093c4",
   "metadata": {},
   "outputs": [
    {
     "name": "stdout",
     "output_type": "stream",
     "text": [
      "Running syn test set with loc_count=1 and distortion=0.\n"
     ]
    },
    {
     "name": "stderr",
     "output_type": "stream",
     "text": [
      "Processing locations: 100%|████████████████████████████████████████████████████████| 100/100 [00:00<00:00, 50021.51it/s]"
     ]
    },
    {
     "name": "stdout",
     "output_type": "stream",
     "text": [
      "Counter({'gov complete': 100})\n",
      "Total matches: 100 (100.0%).\n",
      "Accuracy (entries where all parts of truth are in possible matches): 1.0\n",
      "\n"
     ]
    },
    {
     "name": "stderr",
     "output_type": "stream",
     "text": [
      "\n"
     ]
    },
    {
     "name": "stdout",
     "output_type": "stream",
     "text": [
      "Running syn test set with loc_count=1 and distortion=1.\n"
     ]
    },
    {
     "name": "stderr",
     "output_type": "stream",
     "text": [
      "Processing locations: 100%|███████████████████████████████████████████████████████████| 100/100 [00:02<00:00, 39.68it/s]\n"
     ]
    },
    {
     "name": "stdout",
     "output_type": "stream",
     "text": [
      "Counter({'gov complete': 75, 'Phonetic': 18, 'ALL GOV | Cost 1': 5, 'ALL GOV | Cost 2': 2})\n",
      "Total matches: 100 (100.0%).\n",
      "Accuracy (entries where all parts of truth are in possible matches): 0.84\n",
      "\n",
      "Running syn test set with loc_count=2 and distortion=0.\n"
     ]
    },
    {
     "name": "stderr",
     "output_type": "stream",
     "text": [
      "Processing locations: 100%|████████████████████████████████████████████████████████| 100/100 [00:00<00:00, 33338.40it/s]"
     ]
    },
    {
     "name": "stdout",
     "output_type": "stream",
     "text": [
      "Counter({'gov complete': 98, 'gov partial': 1})\n",
      "Total matches: 99 (100.0%).\n",
      "Accuracy (entries where all parts of truth are in possible matches): 1.0\n",
      "\n"
     ]
    },
    {
     "name": "stderr",
     "output_type": "stream",
     "text": [
      "\n"
     ]
    },
    {
     "name": "stdout",
     "output_type": "stream",
     "text": [
      "Running syn test set with loc_count=2 and distortion=1.\n"
     ]
    },
    {
     "name": "stderr",
     "output_type": "stream",
     "text": [
      "Processing locations: 100%|███████████████████████████████████████████████████████████| 100/100 [00:07<00:00, 13.55it/s]\n"
     ]
    },
    {
     "name": "stdout",
     "output_type": "stream",
     "text": [
      "Counter({'gov complete': 46, 'gov partial': 44, 'KREISORSTADT | Cost 1': 8, 'KREISORSTADT | Cost 3': 1, 'Phonetic': 1})\n",
      "Total matches: 100 (100.0%).\n",
      "Accuracy (entries where all parts of truth are in possible matches): 0.92\n",
      "\n",
      "Running syn test set with loc_count=3 and distortion=0.\n"
     ]
    },
    {
     "name": "stderr",
     "output_type": "stream",
     "text": [
      "Processing locations: 100%|████████████████████████████████████████████████████████| 100/100 [00:00<00:00, 25000.32it/s]"
     ]
    },
    {
     "name": "stdout",
     "output_type": "stream",
     "text": [
      "Counter({'gov complete': 94, 'gov partial': 6})\n",
      "Total matches: 100 (100.0%).\n",
      "Accuracy (entries where all parts of truth are in possible matches): 1.0\n",
      "\n"
     ]
    },
    {
     "name": "stderr",
     "output_type": "stream",
     "text": [
      "\n"
     ]
    },
    {
     "name": "stdout",
     "output_type": "stream",
     "text": [
      "Running syn test set with loc_count=3 and distortion=1.\n"
     ]
    },
    {
     "name": "stderr",
     "output_type": "stream",
     "text": [
      "Processing locations: 100%|███████████████████████████████████████████████████████████| 100/100 [00:18<00:00,  5.39it/s]"
     ]
    },
    {
     "name": "stdout",
     "output_type": "stream",
     "text": [
      "Counter({'gov partial': 69, 'gov complete': 27, 'KREISORSTADT | Cost 1': 2, 'KREISORSTADT | Cost 2': 2})\n",
      "Total matches: 99 (99.0%).\n",
      "Accuracy (entries where all parts of truth are in possible matches): 0.86\n",
      "\n"
     ]
    },
    {
     "name": "stderr",
     "output_type": "stream",
     "text": [
      "\n"
     ]
    }
   ],
   "source": [
    "for name, test_set in syn_test_sets:\n",
    "    m = Matcher(gov, **matcher_params)\n",
    "    print(\"Running\", name)\n",
    "    m.get_match_for_locations(test_set.location)\n",
    "    print(Counter(v[\"anchor_method\"] for v in m.results.values()))\n",
    "    \n",
    "    total_matches = len([match for match in m.results.values() if match.get(\"possible_matches\")])\n",
    "    print(f\"Total matches: {total_matches} ({round(total_matches /  test_set.location.nunique() * 100, 4)}%).\")\n",
    "    \n",
    "    accuracy = get_accuracy(m.results, test_set)\n",
    "    print(\"Accuracy (entries where all parts of truth are in possible matches):\", round(accuracy, 4))\n",
    "    print()\n",
    "    \n",
    "    result_row.append(total_matches / test_set.location.nunique())\n",
    "    result_row.append(accuracy)"
   ]
  },
  {
   "cell_type": "markdown",
   "id": "ac32eab4-aeb8-431a-abae-8f6132e5957a",
   "metadata": {},
   "source": [
    "Test Set 4"
   ]
  },
  {
   "cell_type": "code",
   "execution_count": 13,
   "id": "427460b0-f028-4575-96ba-7f6c58a27594",
   "metadata": {},
   "outputs": [
    {
     "name": "stdout",
     "output_type": "stream",
     "text": [
      "Running gov web test set\n"
     ]
    },
    {
     "name": "stderr",
     "output_type": "stream",
     "text": [
      "Processing locations: 100%|█████████████████████████████████████████████████████████| 5641/5641 [01:50<00:00, 51.03it/s]\n"
     ]
    },
    {
     "name": "stdout",
     "output_type": "stream",
     "text": [
      "Counter({'gov partial': 3546, 'gov complete': 602, 'Phonetic': 512, 'KREISORSTADT | Cost 2': 435, 'KREISORSTADT | Cost 3': 303, 'KREISORSTADT | Cost 1': 59, 'ALL GOV | Cost 1': 48, 'ALL GOV | Cost 2': 40, 'ALL GOV | Cost 3': 26, 'No anchor at all': 6})\n",
      "Total matches: 5065 (90.8194%).\n",
      "Accuracy (entries where all parts of truth are in possible matches): 0.6603\n",
      "\n"
     ]
    }
   ],
   "source": [
    "for name, test_set in gtd_test_sets:\n",
    "    m = Matcher(gov, **matcher_params)\n",
    "    print(\"Running\", name)\n",
    "    m.get_match_for_locations(test_set.location)\n",
    "    print(Counter(v[\"anchor_method\"] for v in m.results.values()))\n",
    "    \n",
    "    \n",
    "    total_matches = len([match for match in m.results.values() if match.get(\"possible_matches\")])\n",
    "    print(f\"Total matches: {total_matches} ({round(total_matches /  test_set.location.nunique() * 100, 4)}%).\")\n",
    "    \n",
    "    accuracy = get_accuracy(m.results, test_set)\n",
    "    print(\"Accuracy (entries where all parts of truth are in possible matches):\", round(accuracy, 4))\n",
    "    print()\n",
    "    \n",
    "    result_row.append(total_matches / test_set.location.nunique())\n",
    "    result_row.append(accuracy)"
   ]
  },
  {
   "cell_type": "code",
   "execution_count": 14,
   "id": "3ea452bb-c0e4-4e10-a911-8cdb28240ec6",
   "metadata": {},
   "outputs": [],
   "source": [
    "final_results.append(result_row)"
   ]
  },
  {
   "cell_type": "markdown",
   "id": "45162eb2-be3c-4de1-9b16-385e875f77e5",
   "metadata": {},
   "source": [
    "## Test suite with VL + Gov Preprocessing - replace corrections and characters, no substitution"
   ]
  },
  {
   "cell_type": "code",
   "execution_count": 15,
   "id": "2f968849-a82d-4526-8336-c3e6fff453b3",
   "metadata": {},
   "outputs": [],
   "source": [
    "result_row = []"
   ]
  },
  {
   "cell_type": "code",
   "execution_count": 16,
   "id": "7586c39a-e044-4712-929f-400ae47b6a7f",
   "metadata": {},
   "outputs": [],
   "source": [
    "for _, test_set in vl_test_sets + syn_test_sets + gtd_test_sets:\n",
    "    test_set.location = Preprocessing.replace_corrections_vl(test_set.location)\n",
    "    test_set.location = Preprocessing.replace_characters_vl(test_set.location)\n",
    "    \n",
    "    if \"truth\" in test_set:\n",
    "        test_set.truth = Preprocessing.replace_corrections_vl(test_set.truth)\n",
    "        test_set.truth = Preprocessing.replace_characters_vl(test_set.truth)"
   ]
  },
  {
   "cell_type": "code",
   "execution_count": 17,
   "id": "b75d68e9-d55b-4581-bd8a-cce3f01a2649",
   "metadata": {},
   "outputs": [],
   "source": [
    "from collections import defaultdict"
   ]
  },
  {
   "cell_type": "code",
   "execution_count": 18,
   "id": "15401dfb-b4cb-4636-800e-3be50241f7df",
   "metadata": {},
   "outputs": [],
   "source": [
    "old_names = list(gov.ids_by_name.keys())\n",
    "new_names = Preprocessing.replace_characters_gov(pd.Series(old_names, dtype=str))\n",
    "\n",
    "ids_by_pname = defaultdict(set)\n",
    "for old_name, new_name in zip(old_names, new_names):\n",
    "    ids_by_pname[new_name] |= gov.ids_by_name[old_name]\n",
    "ids_by_pname.default_factory = None\n",
    "gov.ids_by_name = ids_by_pname\n",
    "    \n",
    "pnames_by_id = defaultdict(set)\n",
    "for k, v in ids_by_pname.items():\n",
    "    for i in v:\n",
    "        pnames_by_id[i] |= {k}\n",
    "pnames_by_id.default_factory = None\n",
    "gov.names_by_id = pnames_by_id"
   ]
  },
  {
   "cell_type": "markdown",
   "id": "b7b27b2b-29f9-4581-8990-e50644570364",
   "metadata": {},
   "source": [
    "Test Set 1"
   ]
  },
  {
   "cell_type": "code",
   "execution_count": 19,
   "id": "6608817d-ec67-492d-9173-1a126a91f89e",
   "metadata": {},
   "outputs": [
    {
     "name": "stdout",
     "output_type": "stream",
     "text": [
      "Running vl test set with loc_count=1\n"
     ]
    },
    {
     "name": "stderr",
     "output_type": "stream",
     "text": [
      "Processing locations: 100%|███████████████████████████████████████████████████████████| 100/100 [00:14<00:00,  6.93it/s]\n"
     ]
    },
    {
     "name": "stdout",
     "output_type": "stream",
     "text": [
      "Counter({'gov complete': 43, 'Phonetic': 38, 'ALL GOV | Cost 3': 9, 'ALL GOV | Cost 2': 8, 'ALL GOV | Cost 1': 2})\n",
      "Total matches: 100 (100.0%).\n",
      "\n",
      "Running vl test set with loc_count=2\n"
     ]
    },
    {
     "name": "stderr",
     "output_type": "stream",
     "text": [
      "Processing locations: 100%|██████████████████████████████████████████████████████████| 100/100 [00:00<00:00, 204.76it/s]\n"
     ]
    },
    {
     "name": "stdout",
     "output_type": "stream",
     "text": [
      "Counter({'gov partial': 63, 'gov complete': 25, 'KREISORSTADT | Cost 2': 6, 'KREISORSTADT | Cost 3': 5, 'KREISORSTADT | Cost 1': 1})\n",
      "Total matches: 85 (85.0%).\n",
      "\n",
      "Running vl test set with loc_count=3\n"
     ]
    },
    {
     "name": "stderr",
     "output_type": "stream",
     "text": [
      "Processing locations: 100%|██████████████████████████████████████████████████████████| 100/100 [00:00<00:00, 113.77it/s]\n"
     ]
    },
    {
     "name": "stdout",
     "output_type": "stream",
     "text": [
      "Counter({'gov partial': 68, 'gov complete': 28, 'KREISORSTADT | Cost 2': 4})\n",
      "Total matches: 64 (64.0%).\n",
      "\n",
      "Running vl test set containing '.'\n"
     ]
    },
    {
     "name": "stderr",
     "output_type": "stream",
     "text": [
      "Processing locations: 100%|███████████████████████████████████████████████████████████| 100/100 [00:07<00:00, 12.64it/s]"
     ]
    },
    {
     "name": "stdout",
     "output_type": "stream",
     "text": [
      "Counter({'gov partial': 63, 'KREISORSTADT | Cost 3': 12, 'KREISORSTADT | Cost 2': 9, 'ALL GOV | Cost 3': 5, 'Phonetic': 4, 'KREISORSTADT | Cost 1': 2, 'gov complete': 2, 'ALL GOV | Cost 2': 2, 'ALL GOV | Cost 1': 1})\n",
      "Total matches: 96 (96.0%).\n",
      "\n"
     ]
    },
    {
     "name": "stderr",
     "output_type": "stream",
     "text": [
      "\n"
     ]
    }
   ],
   "source": [
    "for name, test_set in vl_test_sets:\n",
    "    m = Matcher(gov, **matcher_params)\n",
    "    print(\"Running\", name)\n",
    "    m.get_match_for_locations(test_set.location)\n",
    "    print(Counter(v[\"anchor_method\"] for v in m.results.values()))\n",
    "    \n",
    "    total_matches = len([match for match in m.results.values() if match.get(\"possible_matches\")])\n",
    "    print(f\"Total matches: {total_matches} ({round(total_matches / test_set.location.nunique() * 100, 4)}%).\")\n",
    "    print()\n",
    "    \n",
    "    result_row.append(total_matches / test_set.location.nunique())"
   ]
  },
  {
   "cell_type": "markdown",
   "id": "5a3079fc-e2bf-41ac-88a3-47c3a2f9080d",
   "metadata": {},
   "source": [
    "Test Set 2"
   ]
  },
  {
   "cell_type": "markdown",
   "id": "8eb89766-0270-4489-88e7-ca148bb4d664",
   "metadata": {},
   "source": [
    "for name, test_set in gov_test_sets:\n",
    "    m = Matcher(gov, **matcher_params)\n",
    "    print(\"Running\", name)\n",
    "    m.get_match_for_locations(test_set.location)\n",
    "    total_matches = len([match for match in m.results.values() if match.get(\"possible_matches\")])\n",
    "    print(f\"Total matches: {total_matches} ({round(total_matches / test_set.location.nunique() * 100, 4)}%).\")\n",
    "    \n",
    "    accuracy = get_accuracy(m.results, test_set)\n",
    "    print(\"Accuracy (entries where all parts of truth are in possible matches):\", round(accuracy, 4))\n",
    "    print()\n",
    "    \n",
    "    result_row.append(total_matches / test_set.location.nunique())\n",
    "    result_row.append(accuracy)"
   ]
  },
  {
   "cell_type": "markdown",
   "id": "ec8e1bc9-55f7-4164-9780-7dd859909e3c",
   "metadata": {},
   "source": [
    "Test Set 3"
   ]
  },
  {
   "cell_type": "code",
   "execution_count": 20,
   "id": "197e600c-c98a-478d-b11e-286bbbacf831",
   "metadata": {},
   "outputs": [
    {
     "name": "stdout",
     "output_type": "stream",
     "text": [
      "Running syn test set with loc_count=1 and distortion=0.\n"
     ]
    },
    {
     "name": "stderr",
     "output_type": "stream",
     "text": [
      "Processing locations: 100%|███████████████████████████████████████████████████████████| 100/100 [00:01<00:00, 68.16it/s]\n"
     ]
    },
    {
     "name": "stdout",
     "output_type": "stream",
     "text": [
      "Counter({'gov complete': 99, 'ALL GOV | Cost 3': 1})\n",
      "Total matches: 100 (100.0%).\n",
      "Accuracy (entries where all parts of truth are in possible matches): 0.99\n",
      "\n",
      "Running syn test set with loc_count=1 and distortion=1.\n"
     ]
    },
    {
     "name": "stderr",
     "output_type": "stream",
     "text": [
      "Processing locations: 100%|███████████████████████████████████████████████████████████| 100/100 [00:03<00:00, 26.54it/s]\n"
     ]
    },
    {
     "name": "stdout",
     "output_type": "stream",
     "text": [
      "Counter({'gov complete': 74, 'Phonetic': 19, 'ALL GOV | Cost 1': 4, 'ALL GOV | Cost 2': 2, 'ALL GOV | Cost 3': 1})\n",
      "Total matches: 100 (100.0%).\n",
      "Accuracy (entries where all parts of truth are in possible matches): 0.82\n",
      "\n",
      "Running syn test set with loc_count=2 and distortion=0.\n"
     ]
    },
    {
     "name": "stderr",
     "output_type": "stream",
     "text": [
      "Processing locations: 100%|██████████████████████████████████████████████████████████| 100/100 [00:00<00:00, 150.13it/s]\n"
     ]
    },
    {
     "name": "stdout",
     "output_type": "stream",
     "text": [
      "Counter({'gov complete': 90, 'gov partial': 9})\n",
      "Total matches: 99 (100.0%).\n",
      "Accuracy (entries where all parts of truth are in possible matches): 0.91\n",
      "\n",
      "Running syn test set with loc_count=2 and distortion=1.\n"
     ]
    },
    {
     "name": "stderr",
     "output_type": "stream",
     "text": [
      "Processing locations: 100%|███████████████████████████████████████████████████████████| 100/100 [00:06<00:00, 14.34it/s]\n"
     ]
    },
    {
     "name": "stdout",
     "output_type": "stream",
     "text": [
      "Counter({'gov complete': 45, 'gov partial': 41, 'KREISORSTADT | Cost 1': 9, 'KREISORSTADT | Cost 3': 4, 'Phonetic': 1})\n",
      "Total matches: 99 (99.0%).\n",
      "Accuracy (entries where all parts of truth are in possible matches): 0.79\n",
      "\n",
      "Running syn test set with loc_count=3 and distortion=0.\n"
     ]
    },
    {
     "name": "stderr",
     "output_type": "stream",
     "text": [
      "Processing locations: 100%|███████████████████████████████████████████████████████████| 100/100 [00:01<00:00, 52.82it/s]\n"
     ]
    },
    {
     "name": "stdout",
     "output_type": "stream",
     "text": [
      "Counter({'gov complete': 81, 'gov partial': 19})\n",
      "Total matches: 97 (97.0%).\n",
      "Accuracy (entries where all parts of truth are in possible matches): 0.84\n",
      "\n",
      "Running syn test set with loc_count=3 and distortion=1.\n"
     ]
    },
    {
     "name": "stderr",
     "output_type": "stream",
     "text": [
      "Processing locations: 100%|███████████████████████████████████████████████████████████| 100/100 [00:17<00:00,  5.57it/s]"
     ]
    },
    {
     "name": "stdout",
     "output_type": "stream",
     "text": [
      "Counter({'gov partial': 71, 'gov complete': 25, 'KREISORSTADT | Cost 2': 3, 'KREISORSTADT | Cost 1': 1})\n",
      "Total matches: 99 (99.0%).\n",
      "Accuracy (entries where all parts of truth are in possible matches): 0.71\n",
      "\n"
     ]
    },
    {
     "name": "stderr",
     "output_type": "stream",
     "text": [
      "\n"
     ]
    }
   ],
   "source": [
    "for name, test_set in syn_test_sets:\n",
    "    m = Matcher(gov, **matcher_params)\n",
    "    print(\"Running\", name)\n",
    "    m.get_match_for_locations(test_set.location)\n",
    "    print(Counter(v[\"anchor_method\"] for v in m.results.values()))\n",
    "    \n",
    "    total_matches = len([match for match in m.results.values() if match.get(\"possible_matches\")])\n",
    "    print(f\"Total matches: {total_matches} ({round(total_matches /  test_set.location.nunique() * 100, 4)}%).\")\n",
    "    \n",
    "    accuracy = get_accuracy(m.results, test_set)\n",
    "    print(\"Accuracy (entries where all parts of truth are in possible matches):\", round(accuracy, 4))\n",
    "    print()\n",
    "    \n",
    "    result_row.append(total_matches / test_set.location.nunique())\n",
    "    result_row.append(accuracy)"
   ]
  },
  {
   "cell_type": "markdown",
   "id": "1b65b544-5463-4eb8-a7bb-92260687fd9d",
   "metadata": {},
   "source": [
    "Test Set 4"
   ]
  },
  {
   "cell_type": "code",
   "execution_count": 21,
   "id": "5f1d5621-46b8-4f94-a6d3-8f0185328650",
   "metadata": {},
   "outputs": [
    {
     "name": "stdout",
     "output_type": "stream",
     "text": [
      "Running gov web test set\n"
     ]
    },
    {
     "name": "stderr",
     "output_type": "stream",
     "text": [
      "Processing locations: 100%|█████████████████████████████████████████████████████████| 5641/5641 [01:45<00:00, 53.31it/s]\n"
     ]
    },
    {
     "name": "stdout",
     "output_type": "stream",
     "text": [
      "Counter({'gov partial': 3545, 'gov complete': 609, 'Phonetic': 513, 'KREISORSTADT | Cost 2': 434, 'KREISORSTADT | Cost 3': 297, 'KREISORSTADT | Cost 1': 61, 'ALL GOV | Cost 1': 48, 'ALL GOV | Cost 2': 42, 'ALL GOV | Cost 3': 22, 'No anchor at all': 5})\n",
      "Total matches: 5063 (90.7999%).\n",
      "Accuracy (entries where all parts of truth are in possible matches): 0.6621\n",
      "\n"
     ]
    }
   ],
   "source": [
    "for name, test_set in gtd_test_sets:\n",
    "    m = Matcher(gov, **matcher_params)\n",
    "    print(\"Running\", name)\n",
    "    m.get_match_for_locations(test_set.location)\n",
    "    print(Counter(v[\"anchor_method\"] for v in m.results.values()))\n",
    "    \n",
    "    total_matches = len([match for match in m.results.values() if match.get(\"possible_matches\")])\n",
    "    print(f\"Total matches: {total_matches} ({round(total_matches /  test_set.location.nunique() * 100, 4)}%).\")\n",
    "    \n",
    "    accuracy = get_accuracy(m.results, test_set)\n",
    "    print(\"Accuracy (entries where all parts of truth are in possible matches):\", round(accuracy, 4))\n",
    "    print()\n",
    "    \n",
    "    result_row.append(total_matches / test_set.location.nunique())\n",
    "    result_row.append(accuracy)"
   ]
  },
  {
   "cell_type": "code",
   "execution_count": 22,
   "id": "79bc62b3-722b-4a04-b002-b7171bcaf260",
   "metadata": {},
   "outputs": [],
   "source": [
    "final_results.append(result_row)"
   ]
  },
  {
   "cell_type": "markdown",
   "id": "1e700bf0-95c9-4dbe-9cb4-08977b35b37a",
   "metadata": {},
   "source": [
    "## Test suite with VL + Gov Preprocessing - replace corrections and characters + substitution"
   ]
  },
  {
   "cell_type": "code",
   "execution_count": 23,
   "id": "d726c9f7-138f-4296-ac41-31ec6916baea",
   "metadata": {},
   "outputs": [],
   "source": [
    "result_row = []"
   ]
  },
  {
   "cell_type": "code",
   "execution_count": 24,
   "id": "189ef802-aa1a-429b-9354-6ed92d850b7c",
   "metadata": {},
   "outputs": [],
   "source": [
    "for _, test_set in vl_test_sets + syn_test_sets + gtd_test_sets:\n",
    "    test_set.location = Preprocessing.substitute_partial_words(test_set.location, data_root)\n",
    "    test_set.location = Preprocessing.substitute_delete_words(test_set.location, data_root)\n",
    "    test_set.location = Preprocessing.substitute_full_words(test_set.location, data_root)\n",
    "    \n",
    "    if \"truth\" in test_set:\n",
    "        test_set.truth = Preprocessing.substitute_partial_words(test_set.truth, data_root)\n",
    "        test_set.truth = Preprocessing.substitute_delete_words(test_set.truth, data_root)\n",
    "        test_set.truth = Preprocessing.substitute_full_words(test_set.truth, data_root)"
   ]
  },
  {
   "cell_type": "code",
   "execution_count": 25,
   "id": "4a0e4463-9ade-4c9a-91ff-00d56b676856",
   "metadata": {},
   "outputs": [],
   "source": [
    "old_names = list(gov.ids_by_name.keys())\n",
    "new_names = Preprocessing.substitute_partial_words(pd.Series(old_names), data_root)\n",
    "new_names = Preprocessing.substitute_delete_words(pd.Series(new_names), data_root)\n",
    "new_names = Preprocessing.substitute_full_words(pd.Series(new_names), data_root)\n",
    "\n",
    "ids_by_pname = defaultdict(set)\n",
    "for old_name, new_name in zip(old_names, new_names):\n",
    "    ids_by_pname[new_name] |= gov.ids_by_name[old_name]\n",
    "ids_by_pname.default_factory = None\n",
    "gov.ids_by_name = ids_by_pname\n",
    "    \n",
    "pnames_by_id = defaultdict(set)\n",
    "for k, v in ids_by_pname.items():\n",
    "    for i in v:\n",
    "        pnames_by_id[i] |= {k}\n",
    "pnames_by_id.default_factory = None\n",
    "gov.names_by_id = pnames_by_id"
   ]
  },
  {
   "cell_type": "markdown",
   "id": "609d00bf-1159-4341-96d1-9fdf53923485",
   "metadata": {},
   "source": [
    "Test Set 1"
   ]
  },
  {
   "cell_type": "code",
   "execution_count": 26,
   "id": "65f4bf5e-e175-4896-afa3-d9e42f04dbc6",
   "metadata": {},
   "outputs": [
    {
     "name": "stdout",
     "output_type": "stream",
     "text": [
      "Running vl test set with loc_count=1\n"
     ]
    },
    {
     "name": "stderr",
     "output_type": "stream",
     "text": [
      "Processing locations: 100%|███████████████████████████████████████████████████████████| 100/100 [00:13<00:00,  7.34it/s]\n"
     ]
    },
    {
     "name": "stdout",
     "output_type": "stream",
     "text": [
      "Counter({'gov complete': 45, 'Phonetic': 37, 'ALL GOV | Cost 3': 9, 'ALL GOV | Cost 2': 8, 'ALL GOV | Cost 1': 1})\n",
      "Total matches: 100 (100.0%).\n",
      "\n",
      "Running vl test set with loc_count=2\n"
     ]
    },
    {
     "name": "stderr",
     "output_type": "stream",
     "text": [
      "Processing locations: 100%|██████████████████████████████████████████████████████████| 100/100 [00:00<00:00, 232.45it/s]\n"
     ]
    },
    {
     "name": "stdout",
     "output_type": "stream",
     "text": [
      "Counter({'gov complete': 49, 'gov partial': 47, 'KREISORSTADT | Cost 2': 4})\n",
      "Total matches: 79 (79.0%).\n",
      "\n",
      "Running vl test set with loc_count=3\n"
     ]
    },
    {
     "name": "stderr",
     "output_type": "stream",
     "text": [
      "Processing locations: 100%|███████████████████████████████████████████████████████████| 100/100 [00:01<00:00, 95.98it/s]\n"
     ]
    },
    {
     "name": "stdout",
     "output_type": "stream",
     "text": [
      "Counter({'gov complete': 53, 'gov partial': 47})\n",
      "Total matches: 58 (58.0%).\n",
      "\n",
      "Running vl test set containing '.'\n"
     ]
    },
    {
     "name": "stderr",
     "output_type": "stream",
     "text": [
      "Processing locations: 100%|███████████████████████████████████████████████████████████| 100/100 [00:07<00:00, 13.24it/s]"
     ]
    },
    {
     "name": "stdout",
     "output_type": "stream",
     "text": [
      "Counter({'gov partial': 43, 'gov complete': 37, 'ALL GOV | Cost 3': 5, 'KREISORSTADT | Cost 2': 5, 'Phonetic': 3, 'ALL GOV | Cost 2': 3, 'KREISORSTADT | Cost 3': 2, 'KREISORSTADT | Cost 1': 2})\n",
      "Total matches: 88 (88.0%).\n",
      "\n"
     ]
    },
    {
     "name": "stderr",
     "output_type": "stream",
     "text": [
      "\n"
     ]
    }
   ],
   "source": [
    "for name, test_set in vl_test_sets:\n",
    "    m = Matcher(gov, **matcher_params)\n",
    "    print(\"Running\", name)\n",
    "    m.get_match_for_locations(test_set.location)\n",
    "    print(Counter(v[\"anchor_method\"] for v in m.results.values()))\n",
    "    \n",
    "    \n",
    "    total_matches = len([match for match in m.results.values() if match.get(\"possible_matches\")])\n",
    "    print(f\"Total matches: {total_matches} ({round(total_matches / test_set.location.nunique() * 100, 4)}%).\")\n",
    "    print()\n",
    "    \n",
    "    result_row.append(total_matches / test_set.location.nunique())"
   ]
  },
  {
   "cell_type": "code",
   "execution_count": 27,
   "id": "4c9d380e-0a18-44b4-bb40-4b18c933a5d7",
   "metadata": {},
   "outputs": [
    {
     "data": {
      "text/plain": [
       "1009502                  stabencinek\n",
       "690804                         moson\n",
       "702232                     nagratten\n",
       "282295                    gammellund\n",
       "909701          rothenburg a. tauber\n",
       "595044           lauban i. schlesien\n",
       "1151499                       wiese \n",
       "37286            arendal i. norwegen\n",
       "55709                     bargerfehn\n",
       "392317     harthausen i. württemberg\n",
       "Name: location, dtype: object"
      ]
     },
     "execution_count": 27,
     "metadata": {},
     "output_type": "execute_result"
    }
   ],
   "source": [
    "vl_test_sets[0][1].location.head(10)"
   ]
  },
  {
   "cell_type": "code",
   "execution_count": 28,
   "id": "af7b3704-3a63-42e0-b45a-0763c42a583f",
   "metadata": {},
   "outputs": [
    {
     "name": "stderr",
     "output_type": "stream",
     "text": [
      "Processing locations: 100%|███████████████████████████████████████████████████████████████| 1/1 [00:01<00:00,  1.32s/it]\n"
     ]
    }
   ],
   "source": [
    "m.get_match_for_locations([\"rott b. reisdingen\"])"
   ]
  },
  {
   "cell_type": "markdown",
   "id": "7a1f4da7-f327-4753-885e-bac4a2c688f6",
   "metadata": {},
   "source": [
    "Test Set 2"
   ]
  },
  {
   "cell_type": "markdown",
   "id": "e4a02411-24e5-4cea-afb5-3d32d839c720",
   "metadata": {},
   "source": [
    "for name, test_set in gov_test_sets:\n",
    "    m = Matcher(gov, **matcher_params)\n",
    "    print(\"Running\", name)\n",
    "    m.get_match_for_locations(test_set.location)\n",
    "    total_matches = len([match for match in m.results.values() if match.get(\"possible_matches\")])\n",
    "    print(f\"Total matches: {total_matches} ({round(total_matches / test_set.location.nunique() * 100, 4)}%).\")\n",
    "    \n",
    "    accuracy = get_accuracy(m.results, test_set)\n",
    "    print(\"Accuracy (entries where all parts of truth are in possible matches):\", round(accuracy, 4))\n",
    "    print()\n",
    "    \n",
    "    result_row.append(total_matches / test_set.location.nunique())\n",
    "    result_row.append(accuracy)"
   ]
  },
  {
   "cell_type": "markdown",
   "id": "f954a47a-27fc-4e38-87b4-1d93235cf744",
   "metadata": {},
   "source": [
    "Test Set 3"
   ]
  },
  {
   "cell_type": "code",
   "execution_count": 29,
   "id": "eadd3759-2e7d-418d-b719-9ef98e0adc7f",
   "metadata": {},
   "outputs": [
    {
     "name": "stdout",
     "output_type": "stream",
     "text": [
      "Running syn test set with loc_count=1 and distortion=0.\n"
     ]
    },
    {
     "name": "stderr",
     "output_type": "stream",
     "text": [
      "Processing locations: 100%|███████████████████████████████████████████████████████████| 100/100 [00:01<00:00, 69.44it/s]\n"
     ]
    },
    {
     "name": "stdout",
     "output_type": "stream",
     "text": [
      "Counter({'gov complete': 98, 'ALL GOV | Cost 3': 1, 'Phonetic': 1})\n",
      "Total matches: 100 (100.0%).\n",
      "Accuracy (entries where all parts of truth are in possible matches): 0.98\n",
      "\n",
      "Running syn test set with loc_count=1 and distortion=1.\n"
     ]
    },
    {
     "name": "stderr",
     "output_type": "stream",
     "text": [
      "Processing locations: 100%|███████████████████████████████████████████████████████████| 100/100 [00:03<00:00, 32.39it/s]\n"
     ]
    },
    {
     "name": "stdout",
     "output_type": "stream",
     "text": [
      "Counter({'gov complete': 75, 'Phonetic': 19, 'ALL GOV | Cost 1': 4, 'ALL GOV | Cost 2': 1, 'ALL GOV | Cost 3': 1})\n",
      "Total matches: 100 (100.0%).\n",
      "Accuracy (entries where all parts of truth are in possible matches): 0.82\n",
      "\n",
      "Running syn test set with loc_count=2 and distortion=0.\n"
     ]
    },
    {
     "name": "stderr",
     "output_type": "stream",
     "text": [
      "Processing locations: 100%|██████████████████████████████████████████████████████████| 100/100 [00:00<00:00, 143.47it/s]\n"
     ]
    },
    {
     "name": "stdout",
     "output_type": "stream",
     "text": [
      "Counter({'gov complete': 89, 'gov partial': 10})\n",
      "Total matches: 99 (100.0%).\n",
      "Accuracy (entries where all parts of truth are in possible matches): 0.9\n",
      "\n",
      "Running syn test set with loc_count=2 and distortion=1.\n"
     ]
    },
    {
     "name": "stderr",
     "output_type": "stream",
     "text": [
      "Processing locations: 100%|███████████████████████████████████████████████████████████| 100/100 [00:07<00:00, 14.08it/s]\n"
     ]
    },
    {
     "name": "stdout",
     "output_type": "stream",
     "text": [
      "Counter({'gov complete': 45, 'gov partial': 42, 'KREISORSTADT | Cost 1': 9, 'KREISORSTADT | Cost 3': 4})\n",
      "Total matches: 99 (99.0%).\n",
      "Accuracy (entries where all parts of truth are in possible matches): 0.76\n",
      "\n",
      "Running syn test set with loc_count=3 and distortion=0.\n"
     ]
    },
    {
     "name": "stderr",
     "output_type": "stream",
     "text": [
      "Processing locations: 100%|███████████████████████████████████████████████████████████| 100/100 [00:02<00:00, 44.23it/s]\n"
     ]
    },
    {
     "name": "stdout",
     "output_type": "stream",
     "text": [
      "Counter({'gov complete': 79, 'gov partial': 21})\n",
      "Total matches: 97 (97.0%).\n",
      "Accuracy (entries where all parts of truth are in possible matches): 0.82\n",
      "\n",
      "Running syn test set with loc_count=3 and distortion=1.\n"
     ]
    },
    {
     "name": "stderr",
     "output_type": "stream",
     "text": [
      "Processing locations: 100%|███████████████████████████████████████████████████████████| 100/100 [00:18<00:00,  5.36it/s]"
     ]
    },
    {
     "name": "stdout",
     "output_type": "stream",
     "text": [
      "Counter({'gov partial': 72, 'gov complete': 25, 'KREISORSTADT | Cost 2': 2, 'KREISORSTADT | Cost 1': 1})\n",
      "Total matches: 98 (98.0%).\n",
      "Accuracy (entries where all parts of truth are in possible matches): 0.71\n",
      "\n"
     ]
    },
    {
     "name": "stderr",
     "output_type": "stream",
     "text": [
      "\n"
     ]
    }
   ],
   "source": [
    "for name, test_set in syn_test_sets:\n",
    "    m = Matcher(gov, **matcher_params)\n",
    "    print(\"Running\", name)\n",
    "    m.get_match_for_locations(test_set.location)\n",
    "    print(Counter(v[\"anchor_method\"] for v in m.results.values()))\n",
    "    \n",
    "    \n",
    "    total_matches = len([match for match in m.results.values() if match.get(\"possible_matches\")])\n",
    "    print(f\"Total matches: {total_matches} ({round(total_matches /  test_set.location.nunique() * 100, 4)}%).\")\n",
    "    \n",
    "    accuracy = get_accuracy(m.results, test_set)\n",
    "    print(\"Accuracy (entries where all parts of truth are in possible matches):\", round(accuracy, 4))\n",
    "    print()\n",
    "    \n",
    "    result_row.append(total_matches / test_set.location.nunique())\n",
    "    result_row.append(accuracy)"
   ]
  },
  {
   "cell_type": "markdown",
   "id": "20979682-2b08-43fe-aaf9-396ba1d98c86",
   "metadata": {},
   "source": [
    "Test Set 4"
   ]
  },
  {
   "cell_type": "code",
   "execution_count": 30,
   "id": "485823f3-a95d-427e-afa4-8366e6671306",
   "metadata": {},
   "outputs": [
    {
     "name": "stdout",
     "output_type": "stream",
     "text": [
      "Running gov web test set\n"
     ]
    },
    {
     "name": "stderr",
     "output_type": "stream",
     "text": [
      "Processing locations: 100%|█████████████████████████████████████████████████████████| 5641/5641 [01:29<00:00, 63.14it/s]\n"
     ]
    },
    {
     "name": "stdout",
     "output_type": "stream",
     "text": [
      "Counter({'gov partial': 3960, 'gov complete': 700, 'Phonetic': 513, 'KREISORSTADT | Cost 1': 141, 'KREISORSTADT | Cost 2': 84, 'KREISORSTADT | Cost 3': 52, 'ALL GOV | Cost 1': 48, 'ALL GOV | Cost 2': 45, 'ALL GOV | Cost 3': 19, 'No anchor at all': 3})\n",
      "Total matches: 4980 (89.4879%).\n",
      "Accuracy (entries where all parts of truth are in possible matches): 0.7148\n",
      "\n"
     ]
    }
   ],
   "source": [
    "for name, test_set in gtd_test_sets:\n",
    "    m = Matcher(gov, **matcher_params)\n",
    "    print(\"Running\", name)\n",
    "    m.get_match_for_locations(test_set.location)\n",
    "    print(Counter(v[\"anchor_method\"] for v in m.results.values()))\n",
    "    \n",
    "    total_matches = len([match for match in m.results.values() if match.get(\"possible_matches\")])\n",
    "    print(f\"Total matches: {total_matches} ({round(total_matches /  test_set.location.nunique() * 100, 4)}%).\")\n",
    "    \n",
    "    accuracy = get_accuracy(m.results, test_set)\n",
    "    print(\"Accuracy (entries where all parts of truth are in possible matches):\", round(accuracy, 4))\n",
    "    print()\n",
    "    \n",
    "    result_row.append(total_matches / test_set.location.nunique())\n",
    "    result_row.append(accuracy)"
   ]
  },
  {
   "cell_type": "code",
   "execution_count": 31,
   "id": "fdf4f656-6094-414b-89d9-53f0214b7009",
   "metadata": {},
   "outputs": [],
   "source": [
    "final_results.append(result_row)"
   ]
  },
  {
   "cell_type": "markdown",
   "id": "34539474-d6fb-464c-8102-f192fa95b1a2",
   "metadata": {},
   "source": [
    "## Auswertung"
   ]
  },
  {
   "cell_type": "code",
   "execution_count": 32,
   "id": "33d1dad1-c716-4813-ae9c-883755875f8f",
   "metadata": {},
   "outputs": [],
   "source": [
    "names = []\n",
    "for name, test_set in vl_test_sets + syn_test_sets + gtd_test_sets:\n",
    "    for metric in ['total matches', 'accuracy']:\n",
    "        if name.startswith(\"vl\") and metric == 'accuracy':\n",
    "            continue\n",
    "            \n",
    "        names.append(name + ' ' + metric)\n",
    "        \n",
    "final_results = pd.DataFrame(final_results, columns=names)"
   ]
  },
  {
   "cell_type": "code",
   "execution_count": 33,
   "id": "504f982a-1165-4a95-b7a7-e9ce54b39634",
   "metadata": {},
   "outputs": [],
   "source": [
    "final_results[\"test set\"] = [\"Baseline\", \"Preprocessing VL + Gov (corrections + characters)\",  \"Preprocessing VL + Gov (corrections + characters + substitution)\"]"
   ]
  },
  {
   "cell_type": "code",
   "execution_count": 34,
   "id": "bd851b93-2525-4ab3-8a5c-3eb68ac65a70",
   "metadata": {},
   "outputs": [],
   "source": [
    "final_results = final_results.set_index(\"test set\")"
   ]
  },
  {
   "cell_type": "code",
   "execution_count": 35,
   "id": "66c574e5-f3db-49c1-adfd-455b82aa445a",
   "metadata": {},
   "outputs": [],
   "source": [
    "from datetime import datetime"
   ]
  },
  {
   "cell_type": "code",
   "execution_count": 36,
   "id": "e034086f-240e-4cd2-af0a-13a3127a71f1",
   "metadata": {},
   "outputs": [],
   "source": [
    "final_results.to_csv(f\"{datetime.now().strftime('%Y_%m_%d_%H_%M_%S')}_final_results.csv\")"
   ]
  }
 ],
 "metadata": {
  "jupytext": {
   "formats": "ipynb,py:percent"
  },
  "kernelspec": {
   "display_name": "Python 3 (ipykernel)",
   "language": "python",
   "name": "python3"
  },
  "language_info": {
   "codemirror_mode": {
    "name": "ipython",
    "version": 3
   },
   "file_extension": ".py",
   "mimetype": "text/x-python",
   "name": "python",
   "nbconvert_exporter": "python",
   "pygments_lexer": "ipython3",
   "version": "3.9.7"
  }
 },
 "nbformat": 4,
 "nbformat_minor": 5
}
